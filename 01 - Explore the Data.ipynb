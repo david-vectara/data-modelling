{
 "cells": [
  {
   "cell_type": "markdown",
   "id": "04f1ad01-81b2-485e-9653-721b63b9acd7",
   "metadata": {},
   "source": [
    "# 01 - Explore the Data\n",
    "\n",
    "In this session, we'll explore the data. We've taken an exerpt of data from the Medtronic site which lists product information on their pace makers. This information is a mix of unstructured data within the PDFs combined with metadata from their website.\n",
    "\n",
    "## Understanding the Metadata\n",
    "We have the following fields in our metadata file, \"pace_makers.csv\":\n",
    "\n",
    "* **Manufacturer** - The pacemakers manufacturer. If we were to expand this use case as an \"info hub\" we'd use this field as a search facet.\n",
    "* **Product Name** - The name of the product.\n",
    "* **Model** - The model number, there may be multiple for a given product name (one-to-many)\n",
    "* **Type** - The type of unstructured document, we'll use this as a search facet\n",
    "* **Revision** - We'll use this to rank up search results, as later revisions should have precedence\n",
    "* **Date Published** - We'll also use this to rank up results, as more recent documents should have precendence\n",
    "\n",
    "We can see the data below."
   ]
  },
  {
   "cell_type": "code",
   "execution_count": 5,
   "id": "869d43ec-dec4-4e75-a9d5-baef8c2b4ed3",
   "metadata": {},
   "outputs": [
    {
     "name": "stdout",
     "output_type": "stream",
     "text": [
      "Requirement already satisfied: duckdb in c:\\dev\\tools\\ipython\\lib\\site-packages (0.10.0)\n",
      "Note: you may need to restart the kernel to use updated packages.\n"
     ]
    }
   ],
   "source": [
    "%pip install duckdb"
   ]
  },
  {
   "cell_type": "code",
   "execution_count": 23,
   "id": "8739564d-5c7d-4b7c-852d-cf03a0085635",
   "metadata": {},
   "outputs": [
    {
     "data": {
      "text/plain": [
       "┌──────────────────────┐\n",
       "│         type         │\n",
       "│       varchar        │\n",
       "├──────────────────────┤\n",
       "│ Clinician Manual     │\n",
       "│ Implant Manual       │\n",
       "│ Reference Guide      │\n",
       "│ Technical Manual     │\n",
       "│ MRI Technical Manual │\n",
       "│ Errata               │\n",
       "│ Addendum             │\n",
       "│ Warranty             │\n",
       "│ Instructions for Use │\n",
       "└──────────────────────┘"
      ]
     },
     "metadata": {},
     "output_type": "display_data"
    }
   ],
   "source": [
    "import duckdb as ddb\n",
    "\n",
    "pace_makers = ddb.sql(\"SELECT * FROM read_csv('pace_makers.csv')\");\n",
    "\n",
    "#df = pd.read_csv('pace_makers.csv')\n",
    "display(ddb.sql(\"SELECT distinct(type) FROM pace_makers\"))\n",
    "#display(ddb.sql(\"SELECT * FROM pace_makers\"))"
   ]
  },
  {
   "cell_type": "code",
   "execution_count": 24,
   "id": "157d0275-c3a4-492f-bcf5-4ae08eaa7d68",
   "metadata": {},
   "outputs": [
    {
     "data": {
      "text/plain": [
       "┌─────────┐\n",
       "│  model  │\n",
       "│ varchar │\n",
       "├─────────┤\n",
       "│ W3DR01  │\n",
       "│ A2DR01  │\n",
       "│ A3SR01  │\n",
       "└─────────┘"
      ]
     },
     "metadata": {},
     "output_type": "display_data"
    }
   ],
   "source": [
    "display(ddb.sql(\"SELECT distinct(model) FROM pace_makers\"))"
   ]
  }
 ],
 "metadata": {
  "kernelspec": {
   "display_name": "Python 3 (ipykernel)",
   "language": "python",
   "name": "python3"
  },
  "language_info": {
   "codemirror_mode": {
    "name": "ipython",
    "version": 3
   },
   "file_extension": ".py",
   "mimetype": "text/x-python",
   "name": "python",
   "nbconvert_exporter": "python",
   "pygments_lexer": "ipython3",
   "version": "3.12.1"
  }
 },
 "nbformat": 4,
 "nbformat_minor": 5
}
